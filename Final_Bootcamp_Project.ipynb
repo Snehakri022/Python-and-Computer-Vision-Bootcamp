{
  "nbformat": 4,
  "nbformat_minor": 0,
  "metadata": {
    "colab": {
      "name": "Final Bootcamp Project.ipynb",
      "provenance": [],
      "authorship_tag": "ABX9TyMAHJ6NVVATCqryQNJWumWx",
      "include_colab_link": true
    },
    "kernelspec": {
      "name": "python3",
      "display_name": "Python 3"
    }
  },
  "cells": [
    {
      "cell_type": "markdown",
      "metadata": {
        "id": "view-in-github",
        "colab_type": "text"
      },
      "source": [
        "<a href=\"https://colab.research.google.com/github/Snehakri022/Python-and-Computer-Vision-Bootcamp/blob/main/Final_Bootcamp_Project.ipynb\" target=\"_parent\"><img src=\"https://colab.research.google.com/assets/colab-badge.svg\" alt=\"Open In Colab\"/></a>"
      ]
    },
    {
      "cell_type": "code",
      "metadata": {
        "id": "YF4C-P0II_fg"
      },
      "source": [
        "import tensorflow as tf\r\n",
        "from tensorflow.keras import datasets, layers, models\r\n",
        "import matplotlib.pyplot as pt"
      ],
      "execution_count": 1,
      "outputs": []
    },
    {
      "cell_type": "code",
      "metadata": {
        "colab": {
          "base_uri": "https://localhost:8080/"
        },
        "id": "NvRqbAkZKH3-",
        "outputId": "e19f978b-85ca-48d0-f3db-3e0d045b6a81"
      },
      "source": [
        "(train_images, train_labels), (test_images, test_labels)=datasets.cifar10.load_data()\r\n",
        "train_images,test_images = train_images/255.0, test_images/255.0"
      ],
      "execution_count": 2,
      "outputs": [
        {
          "output_type": "stream",
          "text": [
            "Downloading data from https://www.cs.toronto.edu/~kriz/cifar-10-python.tar.gz\n",
            "170500096/170498071 [==============================] - 2s 0us/step\n"
          ],
          "name": "stdout"
        }
      ]
    },
    {
      "cell_type": "code",
      "metadata": {
        "id": "ikVl5pbkKxKn"
      },
      "source": [
        "model=models.Sequential()\r\n",
        "model.add(layers.Conv2D(32,(3,3),activation='relu',input_shape=(32,32,3)))\r\n",
        "model.add(layers.MaxPooling2D((2,2)))\r\n",
        "model.add(layers.Conv2D(64,(3,3),activation='relu'))\r\n",
        "model.add(layers.MaxPooling2D((2,2)))\r\n",
        "model.add(layers.Conv2D(64,(3,3),activation='relu'))"
      ],
      "execution_count": 4,
      "outputs": []
    },
    {
      "cell_type": "code",
      "metadata": {
        "colab": {
          "base_uri": "https://localhost:8080/"
        },
        "id": "tGYpfqvnMEma",
        "outputId": "59f1bc9f-390d-49a9-ea70-0f7d667310a5"
      },
      "source": [
        "model.summary()"
      ],
      "execution_count": 5,
      "outputs": [
        {
          "output_type": "stream",
          "text": [
            "Model: \"sequential_1\"\n",
            "_________________________________________________________________\n",
            "Layer (type)                 Output Shape              Param #   \n",
            "=================================================================\n",
            "conv2d (Conv2D)              (None, 30, 30, 32)        896       \n",
            "_________________________________________________________________\n",
            "max_pooling2d (MaxPooling2D) (None, 15, 15, 32)        0         \n",
            "_________________________________________________________________\n",
            "conv2d_1 (Conv2D)            (None, 13, 13, 64)        18496     \n",
            "_________________________________________________________________\n",
            "max_pooling2d_1 (MaxPooling2 (None, 6, 6, 64)          0         \n",
            "_________________________________________________________________\n",
            "conv2d_2 (Conv2D)            (None, 4, 4, 64)          36928     \n",
            "=================================================================\n",
            "Total params: 56,320\n",
            "Trainable params: 56,320\n",
            "Non-trainable params: 0\n",
            "_________________________________________________________________\n"
          ],
          "name": "stdout"
        }
      ]
    },
    {
      "cell_type": "code",
      "metadata": {
        "id": "dL4eozuQMZqG"
      },
      "source": [
        "model.add(layers.Flatten())\r\n",
        "model.add(layers.Dense(64,activation='relu'))\r\n",
        "model.add(layers.Dense(10))"
      ],
      "execution_count": 6,
      "outputs": []
    },
    {
      "cell_type": "code",
      "metadata": {
        "colab": {
          "base_uri": "https://localhost:8080/"
        },
        "id": "BsDeYxA9M4o9",
        "outputId": "e715b739-13eb-49f3-bbee-98f90faf1ba3"
      },
      "source": [
        "model.summary()"
      ],
      "execution_count": 7,
      "outputs": [
        {
          "output_type": "stream",
          "text": [
            "Model: \"sequential_1\"\n",
            "_________________________________________________________________\n",
            "Layer (type)                 Output Shape              Param #   \n",
            "=================================================================\n",
            "conv2d (Conv2D)              (None, 30, 30, 32)        896       \n",
            "_________________________________________________________________\n",
            "max_pooling2d (MaxPooling2D) (None, 15, 15, 32)        0         \n",
            "_________________________________________________________________\n",
            "conv2d_1 (Conv2D)            (None, 13, 13, 64)        18496     \n",
            "_________________________________________________________________\n",
            "max_pooling2d_1 (MaxPooling2 (None, 6, 6, 64)          0         \n",
            "_________________________________________________________________\n",
            "conv2d_2 (Conv2D)            (None, 4, 4, 64)          36928     \n",
            "_________________________________________________________________\n",
            "flatten (Flatten)            (None, 1024)              0         \n",
            "_________________________________________________________________\n",
            "dense (Dense)                (None, 64)                65600     \n",
            "_________________________________________________________________\n",
            "dense_1 (Dense)              (None, 10)                650       \n",
            "=================================================================\n",
            "Total params: 122,570\n",
            "Trainable params: 122,570\n",
            "Non-trainable params: 0\n",
            "_________________________________________________________________\n"
          ],
          "name": "stdout"
        }
      ]
    },
    {
      "cell_type": "code",
      "metadata": {
        "colab": {
          "base_uri": "https://localhost:8080/"
        },
        "id": "vhGu3yeOM-wn",
        "outputId": "b46ef65c-bc2e-4e47-f23e-a8531b3791f8"
      },
      "source": [
        "model.compile(optimizer='adam',\r\n",
        "              loss=tf.keras.losses.SparseCategoricalCrossentropy(from_logits=True),\r\n",
        "              metrics=['accuracy'])\r\n",
        "history=model.fit(train_images,train_labels,epochs=10,validation_data=(test_images,test_labels))"
      ],
      "execution_count": 10,
      "outputs": [
        {
          "output_type": "stream",
          "text": [
            "Epoch 1/10\n",
            "1563/1563 [==============================] - 71s 45ms/step - loss: 1.7659 - accuracy: 0.3444 - val_loss: 1.3377 - val_accuracy: 0.5258\n",
            "Epoch 2/10\n",
            "1563/1563 [==============================] - 70s 44ms/step - loss: 1.2326 - accuracy: 0.5629 - val_loss: 1.1151 - val_accuracy: 0.6017\n",
            "Epoch 3/10\n",
            "1563/1563 [==============================] - 69s 44ms/step - loss: 1.0674 - accuracy: 0.6234 - val_loss: 1.0317 - val_accuracy: 0.6350\n",
            "Epoch 4/10\n",
            "1563/1563 [==============================] - 68s 43ms/step - loss: 0.9752 - accuracy: 0.6578 - val_loss: 1.0056 - val_accuracy: 0.6447\n",
            "Epoch 5/10\n",
            "1563/1563 [==============================] - 68s 43ms/step - loss: 0.9040 - accuracy: 0.6817 - val_loss: 0.9251 - val_accuracy: 0.6779\n",
            "Epoch 6/10\n",
            "1563/1563 [==============================] - 69s 44ms/step - loss: 0.8365 - accuracy: 0.7063 - val_loss: 0.8962 - val_accuracy: 0.6905\n",
            "Epoch 7/10\n",
            "1563/1563 [==============================] - 69s 44ms/step - loss: 0.7811 - accuracy: 0.7271 - val_loss: 0.9599 - val_accuracy: 0.6768\n",
            "Epoch 8/10\n",
            "1563/1563 [==============================] - 68s 44ms/step - loss: 0.7495 - accuracy: 0.7378 - val_loss: 0.8660 - val_accuracy: 0.6942\n",
            "Epoch 9/10\n",
            "1563/1563 [==============================] - 67s 43ms/step - loss: 0.6988 - accuracy: 0.7535 - val_loss: 0.8708 - val_accuracy: 0.6992\n",
            "Epoch 10/10\n",
            "1563/1563 [==============================] - 68s 44ms/step - loss: 0.6655 - accuracy: 0.7678 - val_loss: 0.8649 - val_accuracy: 0.7065\n"
          ],
          "name": "stdout"
        }
      ]
    },
    {
      "cell_type": "code",
      "metadata": {
        "colab": {
          "base_uri": "https://localhost:8080/"
        },
        "id": "RRftyXv1N2pE",
        "outputId": "24ff9a1e-cab9-449b-dcf1-0a014cbf09d6"
      },
      "source": [
        "test_loss,test_acc=model.evaluate(test_images,test_labels,verbose=2)"
      ],
      "execution_count": 11,
      "outputs": [
        {
          "output_type": "stream",
          "text": [
            "313/313 - 4s - loss: 0.8649 - accuracy: 0.7065\n"
          ],
          "name": "stdout"
        }
      ]
    },
    {
      "cell_type": "code",
      "metadata": {
        "colab": {
          "base_uri": "https://localhost:8080/"
        },
        "id": "s85CDE2ZO2ic",
        "outputId": "6698db9c-a6d5-44f6-aff0-0e28fd2739c7"
      },
      "source": [
        "print(test_acc)"
      ],
      "execution_count": 12,
      "outputs": [
        {
          "output_type": "stream",
          "text": [
            "0.7064999938011169\n"
          ],
          "name": "stdout"
        }
      ]
    },
    {
      "cell_type": "code",
      "metadata": {
        "id": "OagsX_qbO7ZM"
      },
      "source": [
        ""
      ],
      "execution_count": null,
      "outputs": []
    }
  ]
}